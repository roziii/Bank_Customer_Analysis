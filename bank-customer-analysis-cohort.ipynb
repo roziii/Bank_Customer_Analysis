{
 "cells": [
  {
   "cell_type": "code",
   "execution_count": 1,
   "id": "9d2cc930",
   "metadata": {
    "_cell_guid": "b1076dfc-b9ad-4769-8c92-a6c4dae69d19",
    "_uuid": "8f2839f25d086af736a60e9eeb907d3b93b6e0e5",
    "execution": {
     "iopub.execute_input": "2025-02-04T10:46:49.057303Z",
     "iopub.status.busy": "2025-02-04T10:46:49.056767Z",
     "iopub.status.idle": "2025-02-04T10:46:50.009667Z",
     "shell.execute_reply": "2025-02-04T10:46:50.008642Z"
    },
    "papermill": {
     "duration": 0.960645,
     "end_time": "2025-02-04T10:46:50.012090",
     "exception": false,
     "start_time": "2025-02-04T10:46:49.051445",
     "status": "completed"
    },
    "tags": []
   },
   "outputs": [
    {
     "name": "stdout",
     "output_type": "stream",
     "text": [
      "/kaggle/input/bank-customers/extract - fees - data analyst - .csv\n",
      "/kaggle/input/bank-customers/extract - cash request - data analyst.csv\n"
     ]
    }
   ],
   "source": [
    "# This Python 3 environment comes with many helpful analytics libraries installed\n",
    "# It is defined by the kaggle/python Docker image: https://github.com/kaggle/docker-python\n",
    "# For example, here's several helpful packages to load\n",
    "\n",
    "import numpy as np # linear algebra\n",
    "import pandas as pd # data processing, CSV file I/O (e.g. pd.read_csv)\n",
    "\n",
    "# Input data files are available in the read-only \"../input/\" directory\n",
    "# For example, running this (by clicking run or pressing Shift+Enter) will list all files under the input directory\n",
    "\n",
    "import os\n",
    "for dirname, _, filenames in os.walk('/kaggle/input'):\n",
    "    for filename in filenames:\n",
    "        print(os.path.join(dirname, filename))\n",
    "\n",
    "# You can write up to 20GB to the current directory (/kaggle/working/) that gets preserved as output when you create a version using \"Save & Run All\" \n",
    "# You can also write temporary files to /kaggle/temp/, but they won't be saved outside of the current session"
   ]
  },
  {
   "cell_type": "code",
   "execution_count": 2,
   "id": "b81f95a0",
   "metadata": {
    "execution": {
     "iopub.execute_input": "2025-02-04T10:46:50.021615Z",
     "iopub.status.busy": "2025-02-04T10:46:50.021151Z",
     "iopub.status.idle": "2025-02-04T10:46:51.805952Z",
     "shell.execute_reply": "2025-02-04T10:46:51.804547Z"
    },
    "papermill": {
     "duration": 1.791815,
     "end_time": "2025-02-04T10:46:51.808014",
     "exception": false,
     "start_time": "2025-02-04T10:46:50.016199",
     "status": "completed"
    },
    "tags": []
   },
   "outputs": [],
   "source": [
    "import matplotlib.pyplot as plt\n",
    "import seaborn as sns\n",
    "import warnings\n",
    "warnings.filterwarnings('ignore')\n"
   ]
  },
  {
   "cell_type": "code",
   "execution_count": 3,
   "id": "74777573",
   "metadata": {
    "execution": {
     "iopub.execute_input": "2025-02-04T10:46:51.818433Z",
     "iopub.status.busy": "2025-02-04T10:46:51.817893Z",
     "iopub.status.idle": "2025-02-04T10:46:52.125521Z",
     "shell.execute_reply": "2025-02-04T10:46:52.124468Z"
    },
    "papermill": {
     "duration": 0.315347,
     "end_time": "2025-02-04T10:46:52.127455",
     "exception": false,
     "start_time": "2025-02-04T10:46:51.812108",
     "status": "completed"
    },
    "tags": []
   },
   "outputs": [],
   "source": [
    "fees= pd.read_csv('/kaggle/input/bank-customers/extract - fees - data analyst - .csv')\n",
    "cash_request= pd.read_csv('/kaggle/input/bank-customers/extract - cash request - data analyst.csv')"
   ]
  },
  {
   "cell_type": "code",
   "execution_count": 4,
   "id": "a54a11f7",
   "metadata": {
    "execution": {
     "iopub.execute_input": "2025-02-04T10:46:52.136678Z",
     "iopub.status.busy": "2025-02-04T10:46:52.136327Z",
     "iopub.status.idle": "2025-02-04T10:46:52.183619Z",
     "shell.execute_reply": "2025-02-04T10:46:52.181826Z"
    },
    "papermill": {
     "duration": 0.054146,
     "end_time": "2025-02-04T10:46:52.185716",
     "exception": false,
     "start_time": "2025-02-04T10:46:52.131570",
     "status": "completed"
    },
    "tags": []
   },
   "outputs": [
    {
     "name": "stdout",
     "output_type": "stream",
     "text": [
      "<class 'pandas.core.frame.DataFrame'>\n",
      "RangeIndex: 23970 entries, 0 to 23969\n",
      "Data columns (total 16 columns):\n",
      " #   Column                      Non-Null Count  Dtype  \n",
      "---  ------                      --------------  -----  \n",
      " 0   id                          23970 non-null  int64  \n",
      " 1   amount                      23970 non-null  float64\n",
      " 2   status                      23970 non-null  object \n",
      " 3   created_at                  23970 non-null  object \n",
      " 4   updated_at                  23970 non-null  object \n",
      " 5   user_id                     21867 non-null  float64\n",
      " 6   moderated_at                16035 non-null  object \n",
      " 7   deleted_account_id          2104 non-null   float64\n",
      " 8   reimbursement_date          23970 non-null  object \n",
      " 9   cash_request_received_date  16289 non-null  object \n",
      " 10  money_back_date             16543 non-null  object \n",
      " 11  transfer_type               23970 non-null  object \n",
      " 12  send_at                     16641 non-null  object \n",
      " 13  recovery_status             3330 non-null   object \n",
      " 14  reco_creation               3330 non-null   object \n",
      " 15  reco_last_update            3330 non-null   object \n",
      "dtypes: float64(3), int64(1), object(12)\n",
      "memory usage: 2.9+ MB\n"
     ]
    }
   ],
   "source": [
    "cash_request.info()"
   ]
  },
  {
   "cell_type": "code",
   "execution_count": 5,
   "id": "2047e578",
   "metadata": {
    "execution": {
     "iopub.execute_input": "2025-02-04T10:46:52.195350Z",
     "iopub.status.busy": "2025-02-04T10:46:52.194714Z",
     "iopub.status.idle": "2025-02-04T10:46:52.221613Z",
     "shell.execute_reply": "2025-02-04T10:46:52.220323Z"
    },
    "papermill": {
     "duration": 0.033915,
     "end_time": "2025-02-04T10:46:52.223686",
     "exception": false,
     "start_time": "2025-02-04T10:46:52.189771",
     "status": "completed"
    },
    "tags": []
   },
   "outputs": [
    {
     "name": "stdout",
     "output_type": "stream",
     "text": [
      "<class 'pandas.core.frame.DataFrame'>\n",
      "RangeIndex: 23970 entries, 0 to 23969\n",
      "Data columns (total 5 columns):\n",
      " #   Column              Non-Null Count  Dtype  \n",
      "---  ------              --------------  -----  \n",
      " 0   amount              23970 non-null  float64\n",
      " 1   created_at          23970 non-null  object \n",
      " 2   user_id             21867 non-null  float64\n",
      " 3   deleted_account_id  2104 non-null   float64\n",
      " 4   transfer_type       23970 non-null  object \n",
      "dtypes: float64(3), object(2)\n",
      "memory usage: 936.5+ KB\n"
     ]
    }
   ],
   "source": [
    "cr= cash_request.copy()\n",
    "cr=cr[['amount','created_at', 'user_id', 'deleted_account_id', 'transfer_type']]\n",
    "cr.info()"
   ]
  },
  {
   "cell_type": "code",
   "execution_count": 6,
   "id": "4b454d45",
   "metadata": {
    "execution": {
     "iopub.execute_input": "2025-02-04T10:46:52.232708Z",
     "iopub.status.busy": "2025-02-04T10:46:52.232360Z",
     "iopub.status.idle": "2025-02-04T10:46:52.248377Z",
     "shell.execute_reply": "2025-02-04T10:46:52.246902Z"
    },
    "papermill": {
     "duration": 0.022581,
     "end_time": "2025-02-04T10:46:52.250306",
     "exception": false,
     "start_time": "2025-02-04T10:46:52.227725",
     "status": "completed"
    },
    "tags": []
   },
   "outputs": [
    {
     "name": "stdout",
     "output_type": "stream",
     "text": [
      "<class 'pandas.core.frame.DataFrame'>\n",
      "RangeIndex: 23970 entries, 0 to 23969\n",
      "Data columns (total 4 columns):\n",
      " #   Column         Non-Null Count  Dtype  \n",
      "---  ------         --------------  -----  \n",
      " 0   amount         23970 non-null  float64\n",
      " 1   created_at     23970 non-null  object \n",
      " 2   user_id        23970 non-null  float64\n",
      " 3   transfer_type  23970 non-null  object \n",
      "dtypes: float64(2), object(2)\n",
      "memory usage: 749.2+ KB\n"
     ]
    }
   ],
   "source": [
    "cr.fillna({'user_id':cr['deleted_account_id']}, inplace=True)\n",
    "cr.drop(columns=['deleted_account_id'], inplace=True)\n",
    "cr.info()"
   ]
  },
  {
   "cell_type": "code",
   "execution_count": 7,
   "id": "40984b75",
   "metadata": {
    "execution": {
     "iopub.execute_input": "2025-02-04T10:46:52.259552Z",
     "iopub.status.busy": "2025-02-04T10:46:52.259194Z",
     "iopub.status.idle": "2025-02-04T10:46:52.319324Z",
     "shell.execute_reply": "2025-02-04T10:46:52.318105Z"
    },
    "papermill": {
     "duration": 0.066696,
     "end_time": "2025-02-04T10:46:52.321151",
     "exception": false,
     "start_time": "2025-02-04T10:46:52.254455",
     "status": "completed"
    },
    "tags": []
   },
   "outputs": [
    {
     "data": {
      "text/html": [
       "<div>\n",
       "<style scoped>\n",
       "    .dataframe tbody tr th:only-of-type {\n",
       "        vertical-align: middle;\n",
       "    }\n",
       "\n",
       "    .dataframe tbody tr th {\n",
       "        vertical-align: top;\n",
       "    }\n",
       "\n",
       "    .dataframe thead th {\n",
       "        text-align: right;\n",
       "    }\n",
       "</style>\n",
       "<table border=\"1\" class=\"dataframe\">\n",
       "  <thead>\n",
       "    <tr style=\"text-align: right;\">\n",
       "      <th></th>\n",
       "      <th>amount</th>\n",
       "      <th>created_at</th>\n",
       "      <th>user_id</th>\n",
       "      <th>transfer_type</th>\n",
       "    </tr>\n",
       "  </thead>\n",
       "  <tbody>\n",
       "    <tr>\n",
       "      <th>0</th>\n",
       "      <td>100.0</td>\n",
       "      <td>2019-12-10 19:05:21.596873+00:00</td>\n",
       "      <td>804.0</td>\n",
       "      <td>regular</td>\n",
       "    </tr>\n",
       "    <tr>\n",
       "      <th>1</th>\n",
       "      <td>100.0</td>\n",
       "      <td>2019-12-10 19:50:12.347780+00:00</td>\n",
       "      <td>231.0</td>\n",
       "      <td>regular</td>\n",
       "    </tr>\n",
       "    <tr>\n",
       "      <th>2</th>\n",
       "      <td>100.0</td>\n",
       "      <td>2019-12-10 19:13:35.825460+00:00</td>\n",
       "      <td>191.0</td>\n",
       "      <td>regular</td>\n",
       "    </tr>\n",
       "    <tr>\n",
       "      <th>3</th>\n",
       "      <td>99.0</td>\n",
       "      <td>2019-12-10 19:16:10.880172+00:00</td>\n",
       "      <td>761.0</td>\n",
       "      <td>regular</td>\n",
       "    </tr>\n",
       "    <tr>\n",
       "      <th>4</th>\n",
       "      <td>100.0</td>\n",
       "      <td>2020-05-06 09:59:38.877376+00:00</td>\n",
       "      <td>7686.0</td>\n",
       "      <td>regular</td>\n",
       "    </tr>\n",
       "  </tbody>\n",
       "</table>\n",
       "</div>"
      ],
      "text/plain": [
       "   amount                       created_at  user_id transfer_type\n",
       "0   100.0 2019-12-10 19:05:21.596873+00:00    804.0       regular\n",
       "1   100.0 2019-12-10 19:50:12.347780+00:00    231.0       regular\n",
       "2   100.0 2019-12-10 19:13:35.825460+00:00    191.0       regular\n",
       "3    99.0 2019-12-10 19:16:10.880172+00:00    761.0       regular\n",
       "4   100.0 2020-05-06 09:59:38.877376+00:00   7686.0       regular"
      ]
     },
     "execution_count": 7,
     "metadata": {},
     "output_type": "execute_result"
    }
   ],
   "source": [
    "cr['created_at']=pd.to_datetime(cr['created_at'])\n",
    "cr.head()"
   ]
  },
  {
   "cell_type": "code",
   "execution_count": 8,
   "id": "a5e1262f",
   "metadata": {
    "execution": {
     "iopub.execute_input": "2025-02-04T10:46:52.331082Z",
     "iopub.status.busy": "2025-02-04T10:46:52.330491Z",
     "iopub.status.idle": "2025-02-04T10:46:52.345192Z",
     "shell.execute_reply": "2025-02-04T10:46:52.344034Z"
    },
    "papermill": {
     "duration": 0.022065,
     "end_time": "2025-02-04T10:46:52.347492",
     "exception": false,
     "start_time": "2025-02-04T10:46:52.325427",
     "status": "completed"
    },
    "tags": []
   },
   "outputs": [
    {
     "data": {
      "text/html": [
       "<div>\n",
       "<style scoped>\n",
       "    .dataframe tbody tr th:only-of-type {\n",
       "        vertical-align: middle;\n",
       "    }\n",
       "\n",
       "    .dataframe tbody tr th {\n",
       "        vertical-align: top;\n",
       "    }\n",
       "\n",
       "    .dataframe thead th {\n",
       "        text-align: right;\n",
       "    }\n",
       "</style>\n",
       "<table border=\"1\" class=\"dataframe\">\n",
       "  <thead>\n",
       "    <tr style=\"text-align: right;\">\n",
       "      <th></th>\n",
       "      <th>amount</th>\n",
       "      <th>created_at</th>\n",
       "      <th>user_id</th>\n",
       "      <th>transfer_type</th>\n",
       "    </tr>\n",
       "  </thead>\n",
       "  <tbody>\n",
       "    <tr>\n",
       "      <th>0</th>\n",
       "      <td>100.0</td>\n",
       "      <td>2019-12-10 19:05:21.596873</td>\n",
       "      <td>804.0</td>\n",
       "      <td>regular</td>\n",
       "    </tr>\n",
       "    <tr>\n",
       "      <th>1</th>\n",
       "      <td>100.0</td>\n",
       "      <td>2019-12-10 19:50:12.347780</td>\n",
       "      <td>231.0</td>\n",
       "      <td>regular</td>\n",
       "    </tr>\n",
       "    <tr>\n",
       "      <th>2</th>\n",
       "      <td>100.0</td>\n",
       "      <td>2019-12-10 19:13:35.825460</td>\n",
       "      <td>191.0</td>\n",
       "      <td>regular</td>\n",
       "    </tr>\n",
       "    <tr>\n",
       "      <th>3</th>\n",
       "      <td>99.0</td>\n",
       "      <td>2019-12-10 19:16:10.880172</td>\n",
       "      <td>761.0</td>\n",
       "      <td>regular</td>\n",
       "    </tr>\n",
       "    <tr>\n",
       "      <th>4</th>\n",
       "      <td>100.0</td>\n",
       "      <td>2020-05-06 09:59:38.877376</td>\n",
       "      <td>7686.0</td>\n",
       "      <td>regular</td>\n",
       "    </tr>\n",
       "  </tbody>\n",
       "</table>\n",
       "</div>"
      ],
      "text/plain": [
       "   amount                 created_at  user_id transfer_type\n",
       "0   100.0 2019-12-10 19:05:21.596873    804.0       regular\n",
       "1   100.0 2019-12-10 19:50:12.347780    231.0       regular\n",
       "2   100.0 2019-12-10 19:13:35.825460    191.0       regular\n",
       "3    99.0 2019-12-10 19:16:10.880172    761.0       regular\n",
       "4   100.0 2020-05-06 09:59:38.877376   7686.0       regular"
      ]
     },
     "execution_count": 8,
     "metadata": {},
     "output_type": "execute_result"
    }
   ],
   "source": [
    "cr['created_at']=cr['created_at'].dt.tz_localize(None)\n",
    "cr.head()"
   ]
  },
  {
   "cell_type": "code",
   "execution_count": 9,
   "id": "7f75fdbd",
   "metadata": {
    "execution": {
     "iopub.execute_input": "2025-02-04T10:46:52.359367Z",
     "iopub.status.busy": "2025-02-04T10:46:52.358702Z",
     "iopub.status.idle": "2025-02-04T10:46:52.379651Z",
     "shell.execute_reply": "2025-02-04T10:46:52.378370Z"
    },
    "papermill": {
     "duration": 0.028822,
     "end_time": "2025-02-04T10:46:52.381748",
     "exception": false,
     "start_time": "2025-02-04T10:46:52.352926",
     "status": "completed"
    },
    "tags": []
   },
   "outputs": [
    {
     "data": {
      "text/html": [
       "<div>\n",
       "<style scoped>\n",
       "    .dataframe tbody tr th:only-of-type {\n",
       "        vertical-align: middle;\n",
       "    }\n",
       "\n",
       "    .dataframe tbody tr th {\n",
       "        vertical-align: top;\n",
       "    }\n",
       "\n",
       "    .dataframe thead th {\n",
       "        text-align: right;\n",
       "    }\n",
       "</style>\n",
       "<table border=\"1\" class=\"dataframe\">\n",
       "  <thead>\n",
       "    <tr style=\"text-align: right;\">\n",
       "      <th></th>\n",
       "      <th>amount</th>\n",
       "      <th>created_at</th>\n",
       "      <th>user_id</th>\n",
       "      <th>transfer_type</th>\n",
       "      <th>Month</th>\n",
       "    </tr>\n",
       "  </thead>\n",
       "  <tbody>\n",
       "    <tr>\n",
       "      <th>0</th>\n",
       "      <td>100.0</td>\n",
       "      <td>2019-12-10 19:05:21.596873</td>\n",
       "      <td>804.0</td>\n",
       "      <td>regular</td>\n",
       "      <td>2019-12</td>\n",
       "    </tr>\n",
       "    <tr>\n",
       "      <th>1</th>\n",
       "      <td>100.0</td>\n",
       "      <td>2019-12-10 19:50:12.347780</td>\n",
       "      <td>231.0</td>\n",
       "      <td>regular</td>\n",
       "      <td>2019-12</td>\n",
       "    </tr>\n",
       "    <tr>\n",
       "      <th>2</th>\n",
       "      <td>100.0</td>\n",
       "      <td>2019-12-10 19:13:35.825460</td>\n",
       "      <td>191.0</td>\n",
       "      <td>regular</td>\n",
       "      <td>2019-12</td>\n",
       "    </tr>\n",
       "    <tr>\n",
       "      <th>3</th>\n",
       "      <td>99.0</td>\n",
       "      <td>2019-12-10 19:16:10.880172</td>\n",
       "      <td>761.0</td>\n",
       "      <td>regular</td>\n",
       "      <td>2019-12</td>\n",
       "    </tr>\n",
       "    <tr>\n",
       "      <th>4</th>\n",
       "      <td>100.0</td>\n",
       "      <td>2020-05-06 09:59:38.877376</td>\n",
       "      <td>7686.0</td>\n",
       "      <td>regular</td>\n",
       "      <td>2020-05</td>\n",
       "    </tr>\n",
       "  </tbody>\n",
       "</table>\n",
       "</div>"
      ],
      "text/plain": [
       "   amount                 created_at  user_id transfer_type    Month\n",
       "0   100.0 2019-12-10 19:05:21.596873    804.0       regular  2019-12\n",
       "1   100.0 2019-12-10 19:50:12.347780    231.0       regular  2019-12\n",
       "2   100.0 2019-12-10 19:13:35.825460    191.0       regular  2019-12\n",
       "3    99.0 2019-12-10 19:16:10.880172    761.0       regular  2019-12\n",
       "4   100.0 2020-05-06 09:59:38.877376   7686.0       regular  2020-05"
      ]
     },
     "execution_count": 9,
     "metadata": {},
     "output_type": "execute_result"
    }
   ],
   "source": [
    "cr['Month']=cr['created_at'].dt.to_period('M')\n",
    "cr.head()"
   ]
  },
  {
   "cell_type": "code",
   "execution_count": 10,
   "id": "30700183",
   "metadata": {
    "execution": {
     "iopub.execute_input": "2025-02-04T10:46:52.392680Z",
     "iopub.status.busy": "2025-02-04T10:46:52.392338Z",
     "iopub.status.idle": "2025-02-04T10:46:52.417917Z",
     "shell.execute_reply": "2025-02-04T10:46:52.416537Z"
    },
    "papermill": {
     "duration": 0.0336,
     "end_time": "2025-02-04T10:46:52.420159",
     "exception": false,
     "start_time": "2025-02-04T10:46:52.386559",
     "status": "completed"
    },
    "tags": []
   },
   "outputs": [
    {
     "data": {
      "text/html": [
       "<div>\n",
       "<style scoped>\n",
       "    .dataframe tbody tr th:only-of-type {\n",
       "        vertical-align: middle;\n",
       "    }\n",
       "\n",
       "    .dataframe tbody tr th {\n",
       "        vertical-align: top;\n",
       "    }\n",
       "\n",
       "    .dataframe thead th {\n",
       "        text-align: right;\n",
       "    }\n",
       "</style>\n",
       "<table border=\"1\" class=\"dataframe\">\n",
       "  <thead>\n",
       "    <tr style=\"text-align: right;\">\n",
       "      <th></th>\n",
       "      <th>amount</th>\n",
       "      <th>created_at</th>\n",
       "      <th>user_id</th>\n",
       "      <th>transfer_type</th>\n",
       "      <th>Month</th>\n",
       "      <th>Cohort</th>\n",
       "    </tr>\n",
       "  </thead>\n",
       "  <tbody>\n",
       "    <tr>\n",
       "      <th>0</th>\n",
       "      <td>100.0</td>\n",
       "      <td>2019-12-10 19:05:21.596873</td>\n",
       "      <td>804.0</td>\n",
       "      <td>regular</td>\n",
       "      <td>2019-12</td>\n",
       "      <td>2019-12</td>\n",
       "    </tr>\n",
       "    <tr>\n",
       "      <th>1</th>\n",
       "      <td>100.0</td>\n",
       "      <td>2019-12-10 19:50:12.347780</td>\n",
       "      <td>231.0</td>\n",
       "      <td>regular</td>\n",
       "      <td>2019-12</td>\n",
       "      <td>2019-12</td>\n",
       "    </tr>\n",
       "    <tr>\n",
       "      <th>2</th>\n",
       "      <td>100.0</td>\n",
       "      <td>2019-12-10 19:13:35.825460</td>\n",
       "      <td>191.0</td>\n",
       "      <td>regular</td>\n",
       "      <td>2019-12</td>\n",
       "      <td>2019-12</td>\n",
       "    </tr>\n",
       "    <tr>\n",
       "      <th>3</th>\n",
       "      <td>99.0</td>\n",
       "      <td>2019-12-10 19:16:10.880172</td>\n",
       "      <td>761.0</td>\n",
       "      <td>regular</td>\n",
       "      <td>2019-12</td>\n",
       "      <td>2019-12</td>\n",
       "    </tr>\n",
       "    <tr>\n",
       "      <th>4</th>\n",
       "      <td>100.0</td>\n",
       "      <td>2020-05-06 09:59:38.877376</td>\n",
       "      <td>7686.0</td>\n",
       "      <td>regular</td>\n",
       "      <td>2020-05</td>\n",
       "      <td>2020-05</td>\n",
       "    </tr>\n",
       "  </tbody>\n",
       "</table>\n",
       "</div>"
      ],
      "text/plain": [
       "   amount                 created_at  user_id transfer_type    Month   Cohort\n",
       "0   100.0 2019-12-10 19:05:21.596873    804.0       regular  2019-12  2019-12\n",
       "1   100.0 2019-12-10 19:50:12.347780    231.0       regular  2019-12  2019-12\n",
       "2   100.0 2019-12-10 19:13:35.825460    191.0       regular  2019-12  2019-12\n",
       "3    99.0 2019-12-10 19:16:10.880172    761.0       regular  2019-12  2019-12\n",
       "4   100.0 2020-05-06 09:59:38.877376   7686.0       regular  2020-05  2020-05"
      ]
     },
     "execution_count": 10,
     "metadata": {},
     "output_type": "execute_result"
    }
   ],
   "source": [
    "cr['Cohort']=cr.groupby('user_id')['created_at'].transform('min').dt.to_period('M')\n",
    "cr.head()"
   ]
  },
  {
   "cell_type": "code",
   "execution_count": 11,
   "id": "3009b966",
   "metadata": {
    "execution": {
     "iopub.execute_input": "2025-02-04T10:46:52.431015Z",
     "iopub.status.busy": "2025-02-04T10:46:52.430622Z",
     "iopub.status.idle": "2025-02-04T10:46:52.455938Z",
     "shell.execute_reply": "2025-02-04T10:46:52.454774Z"
    },
    "papermill": {
     "duration": 0.032715,
     "end_time": "2025-02-04T10:46:52.457775",
     "exception": false,
     "start_time": "2025-02-04T10:46:52.425060",
     "status": "completed"
    },
    "tags": []
   },
   "outputs": [
    {
     "data": {
      "text/html": [
       "<div>\n",
       "<style scoped>\n",
       "    .dataframe tbody tr th:only-of-type {\n",
       "        vertical-align: middle;\n",
       "    }\n",
       "\n",
       "    .dataframe tbody tr th {\n",
       "        vertical-align: top;\n",
       "    }\n",
       "\n",
       "    .dataframe thead th {\n",
       "        text-align: right;\n",
       "    }\n",
       "</style>\n",
       "<table border=\"1\" class=\"dataframe\">\n",
       "  <thead>\n",
       "    <tr style=\"text-align: right;\">\n",
       "      <th></th>\n",
       "      <th>Cohort</th>\n",
       "      <th>number_of_initial_customers</th>\n",
       "    </tr>\n",
       "  </thead>\n",
       "  <tbody>\n",
       "    <tr>\n",
       "      <th>0</th>\n",
       "      <td>2019-11</td>\n",
       "      <td>1</td>\n",
       "    </tr>\n",
       "    <tr>\n",
       "      <th>1</th>\n",
       "      <td>2019-12</td>\n",
       "      <td>254</td>\n",
       "    </tr>\n",
       "    <tr>\n",
       "      <th>2</th>\n",
       "      <td>2020-01</td>\n",
       "      <td>106</td>\n",
       "    </tr>\n",
       "    <tr>\n",
       "      <th>3</th>\n",
       "      <td>2020-02</td>\n",
       "      <td>90</td>\n",
       "    </tr>\n",
       "    <tr>\n",
       "      <th>4</th>\n",
       "      <td>2020-03</td>\n",
       "      <td>86</td>\n",
       "    </tr>\n",
       "    <tr>\n",
       "      <th>5</th>\n",
       "      <td>2020-04</td>\n",
       "      <td>246</td>\n",
       "    </tr>\n",
       "    <tr>\n",
       "      <th>6</th>\n",
       "      <td>2020-05</td>\n",
       "      <td>432</td>\n",
       "    </tr>\n",
       "    <tr>\n",
       "      <th>7</th>\n",
       "      <td>2020-06</td>\n",
       "      <td>1540</td>\n",
       "    </tr>\n",
       "    <tr>\n",
       "      <th>8</th>\n",
       "      <td>2020-07</td>\n",
       "      <td>1482</td>\n",
       "    </tr>\n",
       "    <tr>\n",
       "      <th>9</th>\n",
       "      <td>2020-08</td>\n",
       "      <td>728</td>\n",
       "    </tr>\n",
       "    <tr>\n",
       "      <th>10</th>\n",
       "      <td>2020-09</td>\n",
       "      <td>1950</td>\n",
       "    </tr>\n",
       "    <tr>\n",
       "      <th>11</th>\n",
       "      <td>2020-10</td>\n",
       "      <td>4802</td>\n",
       "    </tr>\n",
       "    <tr>\n",
       "      <th>12</th>\n",
       "      <td>2020-11</td>\n",
       "      <td>76</td>\n",
       "    </tr>\n",
       "  </tbody>\n",
       "</table>\n",
       "</div>"
      ],
      "text/plain": [
       "     Cohort  number_of_initial_customers\n",
       "0   2019-11                            1\n",
       "1   2019-12                          254\n",
       "2   2020-01                          106\n",
       "3   2020-02                           90\n",
       "4   2020-03                           86\n",
       "5   2020-04                          246\n",
       "6   2020-05                          432\n",
       "7   2020-06                         1540\n",
       "8   2020-07                         1482\n",
       "9   2020-08                          728\n",
       "10  2020-09                         1950\n",
       "11  2020-10                         4802\n",
       "12  2020-11                           76"
      ]
     },
     "execution_count": 11,
     "metadata": {},
     "output_type": "execute_result"
    }
   ],
   "source": [
    "# calculate the number of the unique customers in each cohort\n",
    "cohort_initial_sizes= cr.groupby('Cohort').agg(\n",
    "    number_of_initial_customers=('user_id', 'nunique')\n",
    ").reset_index()\n",
    "cohort_initial_sizes"
   ]
  },
  {
   "cell_type": "code",
   "execution_count": 12,
   "id": "93083945",
   "metadata": {
    "execution": {
     "iopub.execute_input": "2025-02-04T10:46:52.468929Z",
     "iopub.status.busy": "2025-02-04T10:46:52.468570Z",
     "iopub.status.idle": "2025-02-04T10:46:52.490892Z",
     "shell.execute_reply": "2025-02-04T10:46:52.489718Z"
    },
    "papermill": {
     "duration": 0.030181,
     "end_time": "2025-02-04T10:46:52.492952",
     "exception": false,
     "start_time": "2025-02-04T10:46:52.462771",
     "status": "completed"
    },
    "tags": []
   },
   "outputs": [
    {
     "data": {
      "text/html": [
       "<div>\n",
       "<style scoped>\n",
       "    .dataframe tbody tr th:only-of-type {\n",
       "        vertical-align: middle;\n",
       "    }\n",
       "\n",
       "    .dataframe tbody tr th {\n",
       "        vertical-align: top;\n",
       "    }\n",
       "\n",
       "    .dataframe thead th {\n",
       "        text-align: right;\n",
       "    }\n",
       "</style>\n",
       "<table border=\"1\" class=\"dataframe\">\n",
       "  <thead>\n",
       "    <tr style=\"text-align: right;\">\n",
       "      <th></th>\n",
       "      <th>Cohort</th>\n",
       "      <th>Month</th>\n",
       "      <th>num_customers</th>\n",
       "    </tr>\n",
       "  </thead>\n",
       "  <tbody>\n",
       "    <tr>\n",
       "      <th>0</th>\n",
       "      <td>2019-11</td>\n",
       "      <td>2019-11</td>\n",
       "      <td>1</td>\n",
       "    </tr>\n",
       "    <tr>\n",
       "      <th>1</th>\n",
       "      <td>2019-11</td>\n",
       "      <td>2019-12</td>\n",
       "      <td>1</td>\n",
       "    </tr>\n",
       "    <tr>\n",
       "      <th>2</th>\n",
       "      <td>2019-11</td>\n",
       "      <td>2020-04</td>\n",
       "      <td>1</td>\n",
       "    </tr>\n",
       "    <tr>\n",
       "      <th>3</th>\n",
       "      <td>2019-11</td>\n",
       "      <td>2020-05</td>\n",
       "      <td>1</td>\n",
       "    </tr>\n",
       "    <tr>\n",
       "      <th>4</th>\n",
       "      <td>2019-11</td>\n",
       "      <td>2020-08</td>\n",
       "      <td>1</td>\n",
       "    </tr>\n",
       "    <tr>\n",
       "      <th>...</th>\n",
       "      <td>...</td>\n",
       "      <td>...</td>\n",
       "      <td>...</td>\n",
       "    </tr>\n",
       "    <tr>\n",
       "      <th>78</th>\n",
       "      <td>2020-09</td>\n",
       "      <td>2020-10</td>\n",
       "      <td>680</td>\n",
       "    </tr>\n",
       "    <tr>\n",
       "      <th>79</th>\n",
       "      <td>2020-09</td>\n",
       "      <td>2020-11</td>\n",
       "      <td>20</td>\n",
       "    </tr>\n",
       "    <tr>\n",
       "      <th>80</th>\n",
       "      <td>2020-10</td>\n",
       "      <td>2020-10</td>\n",
       "      <td>4802</td>\n",
       "    </tr>\n",
       "    <tr>\n",
       "      <th>81</th>\n",
       "      <td>2020-10</td>\n",
       "      <td>2020-11</td>\n",
       "      <td>15</td>\n",
       "    </tr>\n",
       "    <tr>\n",
       "      <th>82</th>\n",
       "      <td>2020-11</td>\n",
       "      <td>2020-11</td>\n",
       "      <td>76</td>\n",
       "    </tr>\n",
       "  </tbody>\n",
       "</table>\n",
       "<p>83 rows × 3 columns</p>\n",
       "</div>"
      ],
      "text/plain": [
       "     Cohort    Month  num_customers\n",
       "0   2019-11  2019-11              1\n",
       "1   2019-11  2019-12              1\n",
       "2   2019-11  2020-04              1\n",
       "3   2019-11  2020-05              1\n",
       "4   2019-11  2020-08              1\n",
       "..      ...      ...            ...\n",
       "78  2020-09  2020-10            680\n",
       "79  2020-09  2020-11             20\n",
       "80  2020-10  2020-10           4802\n",
       "81  2020-10  2020-11             15\n",
       "82  2020-11  2020-11             76\n",
       "\n",
       "[83 rows x 3 columns]"
      ]
     },
     "execution_count": 12,
     "metadata": {},
     "output_type": "execute_result"
    }
   ],
   "source": [
    "cohort_monthly_sizes= cr.groupby(['Cohort','Month']).agg(num_customers=('user_id', 'nunique')).reset_index()\n",
    "cohort_monthly_sizes"
   ]
  },
  {
   "cell_type": "code",
   "execution_count": null,
   "id": "dcb52d35",
   "metadata": {
    "papermill": {
     "duration": 0.004773,
     "end_time": "2025-02-04T10:46:52.502935",
     "exception": false,
     "start_time": "2025-02-04T10:46:52.498162",
     "status": "completed"
    },
    "tags": []
   },
   "outputs": [],
   "source": []
  }
 ],
 "metadata": {
  "kaggle": {
   "accelerator": "none",
   "dataSources": [
    {
     "datasetId": 6522717,
     "sourceId": 10541803,
     "sourceType": "datasetVersion"
    }
   ],
   "dockerImageVersionId": 30839,
   "isGpuEnabled": false,
   "isInternetEnabled": true,
   "language": "python",
   "sourceType": "notebook"
  },
  "kernelspec": {
   "display_name": "Python 3",
   "language": "python",
   "name": "python3"
  },
  "language_info": {
   "codemirror_mode": {
    "name": "ipython",
    "version": 3
   },
   "file_extension": ".py",
   "mimetype": "text/x-python",
   "name": "python",
   "nbconvert_exporter": "python",
   "pygments_lexer": "ipython3",
   "version": "3.10.12"
  },
  "papermill": {
   "default_parameters": {},
   "duration": 7.098103,
   "end_time": "2025-02-04T10:46:53.128747",
   "environment_variables": {},
   "exception": null,
   "input_path": "__notebook__.ipynb",
   "output_path": "__notebook__.ipynb",
   "parameters": {},
   "start_time": "2025-02-04T10:46:46.030644",
   "version": "2.6.0"
  }
 },
 "nbformat": 4,
 "nbformat_minor": 5
}
