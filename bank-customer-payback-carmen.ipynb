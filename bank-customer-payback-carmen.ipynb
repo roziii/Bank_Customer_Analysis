{
 "cells": [
  {
   "cell_type": "code",
   "execution_count": 9,
   "id": "899002e9",
   "metadata": {
    "execution": {
     "iopub.execute_input": "2025-02-05T15:11:21.677140Z",
     "iopub.status.busy": "2025-02-05T15:11:21.676551Z",
     "iopub.status.idle": "2025-02-05T15:11:21.681838Z",
     "shell.execute_reply": "2025-02-05T15:11:21.680493Z"
    },
    "papermill": {
     "duration": 0.012963,
     "end_time": "2025-02-05T15:11:21.683763",
     "exception": false,
     "start_time": "2025-02-05T15:11:21.670800",
     "status": "completed"
    },
    "tags": []
   },
   "outputs": [],
   "source": [
    "import warnings\n",
    "warnings.filterwarnings('ignore')"
   ]
  },
  {
   "cell_type": "code",
   "execution_count": 10,
   "id": "775c013f",
   "metadata": {},
   "outputs": [],
   "source": [
    "import numpy as np # linear algebra\n",
    "import pandas as pd # data processing, CSV file I/O (e.g. pd.read_csv)\n",
    "import os"
   ]
  },
  {
   "cell_type": "code",
   "execution_count": 11,
   "id": "2ad777cd",
   "metadata": {
    "execution": {
     "iopub.execute_input": "2025-02-05T15:11:21.694288Z",
     "iopub.status.busy": "2025-02-05T15:11:21.693892Z",
     "iopub.status.idle": "2025-02-05T15:11:22.134612Z",
     "shell.execute_reply": "2025-02-05T15:11:22.133333Z"
    },
    "papermill": {
     "duration": 0.448858,
     "end_time": "2025-02-05T15:11:22.137290",
     "exception": false,
     "start_time": "2025-02-05T15:11:21.688432",
     "status": "completed"
    },
    "tags": []
   },
   "outputs": [],
   "source": [
    "fees = pd.read_csv('./data/extract - fees - data analyst - .csv')\n",
    "cash_request = pd.read_csv('./data/extract - cash request - data analyst.csv')"
   ]
  },
  {
   "cell_type": "code",
   "execution_count": 12,
   "id": "d945102d",
   "metadata": {
    "execution": {
     "iopub.execute_input": "2025-02-05T15:11:22.154039Z",
     "iopub.status.busy": "2025-02-05T15:11:22.153638Z",
     "iopub.status.idle": "2025-02-05T15:11:22.215771Z",
     "shell.execute_reply": "2025-02-05T15:11:22.212286Z"
    },
    "papermill": {
     "duration": 0.074583,
     "end_time": "2025-02-05T15:11:22.219853",
     "exception": false,
     "start_time": "2025-02-05T15:11:22.145270",
     "status": "completed"
    },
    "tags": []
   },
   "outputs": [],
   "source": [
    "merged_df = fees.merge(\n",
    "    cash_request, left_on=\"cash_request_id\", right_on=\"id\", suffixes=(\"_fees\", \"_cash\")\n",
    ")"
   ]
  },
  {
   "cell_type": "code",
   "execution_count": 13,
   "id": "4b9c8b1c",
   "metadata": {
    "execution": {
     "iopub.execute_input": "2025-02-05T15:11:22.238435Z",
     "iopub.status.busy": "2025-02-05T15:11:22.237440Z",
     "iopub.status.idle": "2025-02-05T15:11:22.303892Z",
     "shell.execute_reply": "2025-02-05T15:11:22.302659Z"
    },
    "papermill": {
     "duration": 0.078806,
     "end_time": "2025-02-05T15:11:22.306108",
     "exception": false,
     "start_time": "2025-02-05T15:11:22.227302",
     "status": "completed"
    },
    "tags": []
   },
   "outputs": [],
   "source": [
    "date_cols = [\"reimbursement_date\", \"money_back_date\"]\n",
    "for col in date_cols:\n",
    "    merged_df[col] = pd.to_datetime(merged_df[col], errors='coerce')\n",
    "\n",
    "# Create a new feature: repayment delay in days\n",
    "merged_df[\"repayment_delay\"] = (merged_df[\"money_back_date\"] - merged_df[\"reimbursement_date\"]).dt.days\n",
    "\n",
    "# Set the repayment_delay to -1 when we couldn't calculate it. \n",
    "merged_df[\"repayment_delay\"].fillna(-1, inplace=True)\n"
   ]
  },
  {
   "cell_type": "code",
   "execution_count": 14,
   "id": "61724933",
   "metadata": {
    "execution": {
     "iopub.execute_input": "2025-02-05T15:11:22.317311Z",
     "iopub.status.busy": "2025-02-05T15:11:22.316820Z",
     "iopub.status.idle": "2025-02-05T15:11:22.323490Z",
     "shell.execute_reply": "2025-02-05T15:11:22.322323Z"
    },
    "papermill": {
     "duration": 0.014859,
     "end_time": "2025-02-05T15:11:22.325785",
     "exception": false,
     "start_time": "2025-02-05T15:11:22.310926",
     "status": "completed"
    },
    "tags": []
   },
   "outputs": [],
   "source": [
    "# Define segmentation based on repayment behavior\n",
    "def categorize_repayment(row):\n",
    "    '''\n",
    "         \"Defaulter\" refers to a customer who has not repaid the money at all\n",
    "         \"Late Payer\" refers to a customer who returned the money after the expected reimbursement date.\n",
    "    '''\n",
    "    if pd.isna(row[\"money_back_date\"]):\n",
    "        return \"Defaulter\"\n",
    "    elif row[\"money_back_date\"] <= row[\"reimbursement_date\"]:\n",
    "        return \"On-time Payer\"\n",
    "    else:\n",
    "        return \"Late Payer\""
   ]
  },
  {
   "cell_type": "code",
   "execution_count": 15,
   "id": "4c379cd9",
   "metadata": {
    "execution": {
     "iopub.execute_input": "2025-02-05T15:11:22.338641Z",
     "iopub.status.busy": "2025-02-05T15:11:22.337913Z",
     "iopub.status.idle": "2025-02-05T15:11:22.589333Z",
     "shell.execute_reply": "2025-02-05T15:11:22.587769Z"
    },
    "papermill": {
     "duration": 0.259877,
     "end_time": "2025-02-05T15:11:22.591608",
     "exception": false,
     "start_time": "2025-02-05T15:11:22.331731",
     "status": "completed"
    },
    "tags": []
   },
   "outputs": [],
   "source": [
    "merged_df[\"Repayment_Status\"] = merged_df.apply(categorize_repayment, axis=1)"
   ]
  },
  {
   "cell_type": "code",
   "execution_count": 16,
   "id": "f9a04c78",
   "metadata": {
    "execution": {
     "iopub.execute_input": "2025-02-05T15:11:22.607542Z",
     "iopub.status.busy": "2025-02-05T15:11:22.607098Z",
     "iopub.status.idle": "2025-02-05T15:11:22.628098Z",
     "shell.execute_reply": "2025-02-05T15:11:22.625744Z"
    },
    "papermill": {
     "duration": 0.030245,
     "end_time": "2025-02-05T15:11:22.630750",
     "exception": false,
     "start_time": "2025-02-05T15:11:22.600505",
     "status": "completed"
    },
    "tags": []
   },
   "outputs": [
    {
     "name": "stdout",
     "output_type": "stream",
     "text": [
      "   cash_request_id        reimbursement_date           money_back_date  \\\n",
      "0          14941.0 2020-10-01 22:00:00+00:00 2020-10-06 22:00:00+00:00   \n",
      "1          11714.0 2020-09-07 22:00:00+00:00                       NaT   \n",
      "2          23371.0 2020-11-04 22:00:00+00:00                       NaT   \n",
      "3          26772.0 2020-11-11 23:51:00+00:00 2020-11-17 23:00:00+00:00   \n",
      "4          19350.0 2020-10-30 11:00:00+00:00                       NaT   \n",
      "\n",
      "  Repayment_Status  repayment_delay  \n",
      "0       Late Payer              5.0  \n",
      "1        Defaulter             -1.0  \n",
      "2        Defaulter             -1.0  \n",
      "3       Late Payer              5.0  \n",
      "4        Defaulter             -1.0  \n"
     ]
    }
   ],
   "source": [
    "# Display the segmented data\n",
    "print(merged_df[[\"cash_request_id\", \"reimbursement_date\", \"money_back_date\", \"Repayment_Status\" ,\"repayment_delay\"]].head())"
   ]
  },
  {
   "cell_type": "code",
   "execution_count": 17,
   "id": "6b80f172",
   "metadata": {
    "execution": {
     "iopub.execute_input": "2025-02-05T15:11:22.642633Z",
     "iopub.status.busy": "2025-02-05T15:11:22.642213Z",
     "iopub.status.idle": "2025-02-05T15:11:26.176569Z",
     "shell.execute_reply": "2025-02-05T15:11:26.175011Z"
    },
    "papermill": {
     "duration": 3.543178,
     "end_time": "2025-02-05T15:11:26.178723",
     "exception": false,
     "start_time": "2025-02-05T15:11:22.635545",
     "status": "completed"
    },
    "tags": []
   },
   "outputs": [
    {
     "ename": "ModuleNotFoundError",
     "evalue": "No module named 'sklearn'",
     "output_type": "error",
     "traceback": [
      "\u001b[1;31m---------------------------------------------------------------------------\u001b[0m",
      "\u001b[1;31mModuleNotFoundError\u001b[0m                       Traceback (most recent call last)",
      "Cell \u001b[1;32mIn[17], line 1\u001b[0m\n\u001b[1;32m----> 1\u001b[0m \u001b[38;5;28;01mfrom\u001b[39;00m\u001b[38;5;250m \u001b[39m\u001b[38;5;21;01msklearn\u001b[39;00m\u001b[38;5;21;01m.\u001b[39;00m\u001b[38;5;21;01mensemble\u001b[39;00m\u001b[38;5;250m \u001b[39m\u001b[38;5;28;01mimport\u001b[39;00m IsolationForest\n\u001b[0;32m      2\u001b[0m \u001b[38;5;66;03m# Select features for anomaly detection\u001b[39;00m\n\u001b[0;32m      3\u001b[0m features \u001b[38;5;241m=\u001b[39m [\u001b[38;5;124m\"\u001b[39m\u001b[38;5;124mtotal_amount\u001b[39m\u001b[38;5;124m\"\u001b[39m, \u001b[38;5;124m\"\u001b[39m\u001b[38;5;124mamount\u001b[39m\u001b[38;5;124m\"\u001b[39m, \u001b[38;5;124m\"\u001b[39m\u001b[38;5;124mrepayment_delay\u001b[39m\u001b[38;5;124m\"\u001b[39m]\n",
      "\u001b[1;31mModuleNotFoundError\u001b[0m: No module named 'sklearn'"
     ]
    }
   ],
   "source": [
    "from sklearn.ensemble import IsolationForest\n",
    "# Select features for anomaly detection\n",
    "features = [\"total_amount\", \"amount\", \"repayment_delay\"]\n",
    "merged_df.dropna(subset=features, inplace=True)\n",
    "X = merged_df[[\"total_amount\", \"amount\", \"repayment_delay\"]]\n",
    "\n",
    "# Train Isolation Forest for anomaly detection\n",
    "iso_forest = IsolationForest(n_estimators=100, contamination=0.1, random_state=42)\n",
    "merged_df[\"Anomaly_Score\"] = iso_forest.fit_predict(X)\n",
    "\n",
    "# Label anomalies (-1 means an anomaly)\n",
    "merged_df[\"Anomaly\"] = merged_df[\"Anomaly_Score\"].apply(lambda x: \"Anomalous\" if x == -1 else \"Normal\")\n",
    "\n",
    "# Display the segmented data with anomaly detection\n",
    "print(merged_df[[\"cash_request_id\", \"reimbursement_date\", \"money_back_date\", \"repayment_delay\", \"Repayment_Status\", \"Anomaly\"]].head())"
   ]
  },
  {
   "cell_type": "code",
   "execution_count": 10,
   "id": "350e8b47",
   "metadata": {
    "execution": {
     "iopub.execute_input": "2025-02-05T15:11:26.190609Z",
     "iopub.status.busy": "2025-02-05T15:11:26.189920Z",
     "iopub.status.idle": "2025-02-05T15:11:26.606801Z",
     "shell.execute_reply": "2025-02-05T15:11:26.605600Z"
    },
    "papermill": {
     "duration": 0.42562,
     "end_time": "2025-02-05T15:11:26.609194",
     "exception": false,
     "start_time": "2025-02-05T15:11:26.183574",
     "status": "completed"
    },
    "tags": []
   },
   "outputs": [
    {
     "data": {
      "image/png": "[encoded data removed]",
      "text/plain": [
       "<Figure size 640x480 with 1 Axes>"
      ]
     },
     "metadata": {},
     "output_type": "display_data"
    }
   ],
   "source": [
    "import matplotlib.pyplot as plt\n",
    "\n",
    "plt.hist(merged_df[\"Anomaly_Score\"], bins=50, edgecolor='black')\n",
    "plt.xlabel(\"Anomaly Score\")\n",
    "plt.ylabel(\"Frequency\")\n",
    "plt.title(\"Distribution of Anomaly Scores\")\n",
    "plt.show()"
   ]
  },
  {
   "cell_type": "code",
   "execution_count": 11,
   "id": "0effb5da",
   "metadata": {
    "execution": {
     "iopub.execute_input": "2025-02-05T15:11:26.621312Z",
     "iopub.status.busy": "2025-02-05T15:11:26.620899Z",
     "iopub.status.idle": "2025-02-05T15:11:26.632828Z",
     "shell.execute_reply": "2025-02-05T15:11:26.631401Z"
    },
    "papermill": {
     "duration": 0.020136,
     "end_time": "2025-02-05T15:11:26.634813",
     "exception": false,
     "start_time": "2025-02-05T15:11:26.614677",
     "status": "completed"
    },
    "tags": []
   },
   "outputs": [
    {
     "name": "stdout",
     "output_type": "stream",
     "text": [
      "Anomaly\n",
      "Normal       90.416489\n",
      "Anomalous     9.583511\n",
      "Name: proportion, dtype: float64\n"
     ]
    }
   ],
   "source": [
    "print(merged_df[\"Anomaly\"].value_counts(normalize=True) * 100)\n"
   ]
  },
  {
   "cell_type": "code",
   "execution_count": 12,
   "id": "725f5421",
   "metadata": {
    "execution": {
     "iopub.execute_input": "2025-02-05T15:11:26.648518Z",
     "iopub.status.busy": "2025-02-05T15:11:26.648132Z",
     "iopub.status.idle": "2025-02-05T15:11:26.667287Z",
     "shell.execute_reply": "2025-02-05T15:11:26.665422Z"
    },
    "papermill": {
     "duration": 0.027399,
     "end_time": "2025-02-05T15:11:26.669341",
     "exception": false,
     "start_time": "2025-02-05T15:11:26.641942",
     "status": "completed"
    },
    "tags": []
   },
   "outputs": [
    {
     "name": "stdout",
     "output_type": "stream",
     "text": [
      "     cash_request_id  total_amount  repayment_delay Repayment_Status\n",
      "16           26565.0           5.0             -1.0        Defaulter\n",
      "29           22251.0           5.0              3.0       Late Payer\n",
      "44           12952.0           5.0             -1.0        Defaulter\n",
      "55           26575.0           5.0             36.0       Late Payer\n",
      "70           22977.0           5.0             15.0       Late Payer\n",
      "79           26494.0           5.0              4.0       Late Payer\n",
      "94           14814.0           5.0             28.0       Late Payer\n",
      "106          14924.0           5.0             31.0       Late Payer\n",
      "115          14093.0           5.0             -1.0        Defaulter\n",
      "126          18606.0           5.0              3.0       Late Payer\n",
      "140          22139.0           5.0             -1.0        Defaulter\n",
      "143           3229.0           5.0            157.0       Late Payer\n",
      "146          26119.0           5.0              6.0       Late Payer\n",
      "157          18606.0           5.0              3.0       Late Payer\n",
      "186          14588.0           5.0             22.0       Late Payer\n",
      "193          18606.0           5.0              3.0       Late Payer\n",
      "196          20882.0           5.0              3.0       Late Payer\n",
      "206          14754.0           5.0             31.0       Late Payer\n",
      "207          14588.0           5.0             22.0       Late Payer\n",
      "229          18874.0           5.0              2.0       Late Payer\n",
      "236          23494.0           5.0              6.0       Late Payer\n",
      "268          19074.0           5.0             36.0       Late Payer\n",
      "282          24335.0           5.0             -1.0        Defaulter\n",
      "306          22589.0           5.0              6.0       Late Payer\n",
      "311          21375.0           5.0              5.0       Late Payer\n",
      "338          21522.0           5.0             -1.0        Defaulter\n",
      "359          15633.0           5.0             31.0       Late Payer\n",
      "360          20778.0           5.0              5.0       Late Payer\n",
      "368          23789.0           5.0              6.0       Late Payer\n",
      "373          25388.0           5.0              3.0       Late Payer\n",
      "387          18803.0           5.0             37.0       Late Payer\n",
      "392          15730.0           5.0             28.0       Late Payer\n",
      "394          13797.0           5.0             28.0       Late Payer\n",
      "417          22676.0           5.0             32.0       Late Payer\n",
      "424          22714.0           5.0              6.0       Late Payer\n",
      "426          18803.0           5.0             37.0       Late Payer\n",
      "441          26874.0           5.0              7.0       Late Payer\n",
      "452          16676.0           5.0             -1.0        Defaulter\n",
      "468          16577.0           5.0             -1.0        Defaulter\n",
      "469          22715.0           5.0             -1.0        Defaulter\n",
      "472          15328.0           5.0              5.0       Late Payer\n",
      "480          25307.0           5.0             -1.0        Defaulter\n",
      "484          25146.0           5.0             -1.0        Defaulter\n",
      "485          14650.0           5.0             28.0       Late Payer\n",
      "487          14690.0           5.0              6.0       Late Payer\n",
      "490          22704.0           5.0              6.0       Late Payer\n",
      "548          20893.0           5.0              4.0       Late Payer\n",
      "550          15900.0           5.0             14.0       Late Payer\n",
      "574           9860.0           5.0             -1.0        Defaulter\n",
      "585          14555.0           5.0             18.0       Late Payer\n"
     ]
    }
   ],
   "source": [
    "anomalies = merged_df[merged_df[\"Anomaly\"] == \"Anomalous\"]\n",
    "print(anomalies[[\"cash_request_id\", \"total_amount\", \"repayment_delay\", \"Repayment_Status\"]].head(50))\n"
   ]
  },
  {
   "cell_type": "code",
   "execution_count": 13,
   "id": "e160158c",
   "metadata": {
    "execution": {
     "iopub.execute_input": "2025-02-05T15:11:26.681740Z",
     "iopub.status.busy": "2025-02-05T15:11:26.681137Z",
     "iopub.status.idle": "2025-02-05T15:11:28.150927Z",
     "shell.execute_reply": "2025-02-05T15:11:28.149739Z"
    },
    "papermill": {
     "duration": 1.478229,
     "end_time": "2025-02-05T15:11:28.153000",
     "exception": false,
     "start_time": "2025-02-05T15:11:26.674771",
     "status": "completed"
    },
    "tags": []
   },
   "outputs": [
    {
     "data": {
      "image/png": "[encoded data removed]",
      "text/plain": [
       "<Figure size 640x480 with 1 Axes>"
      ]
     },
     "metadata": {},
     "output_type": "display_data"
    }
   ],
   "source": [
    "import seaborn as sns\n",
    "\n",
    "sns.scatterplot(data=merged_df, x=\"total_amount\", y=\"repayment_delay\", hue=\"Anomaly\")\n",
    "plt.title(\"Anomalies in Repayment Delay vs. Total Amount\")\n",
    "plt.show()"
   ]
  },
  {
   "cell_type": "code",
   "execution_count": 14,
   "id": "aefe48f4",
   "metadata": {
    "execution": {
     "iopub.execute_input": "2025-02-05T15:11:28.167826Z",
     "iopub.status.busy": "2025-02-05T15:11:28.167220Z",
     "iopub.status.idle": "2025-02-05T15:11:29.709717Z",
     "shell.execute_reply": "2025-02-05T15:11:29.708022Z"
    },
    "papermill": {
     "duration": 1.55161,
     "end_time": "2025-02-05T15:11:29.711761",
     "exception": false,
     "start_time": "2025-02-05T15:11:28.160151",
     "status": "completed"
    },
    "tags": []
   },
   "outputs": [
    {
     "name": "stdout",
     "output_type": "stream",
     "text": [
      "LOF_Anomaly_Score\n",
      " 1    20347\n",
      "-1      710\n",
      "Name: count, dtype: int64\n"
     ]
    }
   ],
   "source": [
    "from sklearn.neighbors import LocalOutlierFactor\n",
    "\n",
    "lof = LocalOutlierFactor(n_neighbors=20, contamination=0.1)\n",
    "merged_df[\"LOF_Anomaly_Score\"] = lof.fit_predict(X)\n",
    "\n",
    "print(merged_df[\"LOF_Anomaly_Score\"].value_counts())  # Compare with Isolation Forest results"
   ]
  },
  {
   "cell_type": "code",
   "execution_count": 15,
   "id": "d264dc3e",
   "metadata": {
    "execution": {
     "iopub.execute_input": "2025-02-05T15:11:29.726535Z",
     "iopub.status.busy": "2025-02-05T15:11:29.726132Z",
     "iopub.status.idle": "2025-02-05T15:11:30.843506Z",
     "shell.execute_reply": "2025-02-05T15:11:30.842467Z"
    },
    "papermill": {
     "duration": 1.126716,
     "end_time": "2025-02-05T15:11:30.845542",
     "exception": false,
     "start_time": "2025-02-05T15:11:29.718826",
     "status": "completed"
    },
    "tags": []
   },
   "outputs": [],
   "source": [
    "iso_forest = IsolationForest(n_estimators=100, contamination=0.05, random_state=42)  # Adjust contamination\n",
    "merged_df[\"Anomaly_Score\"] = iso_forest.fit_predict(X)"
   ]
  },
  {
   "cell_type": "code",
   "execution_count": 16,
   "id": "046f674f",
   "metadata": {
    "execution": {
     "iopub.execute_input": "2025-02-05T15:11:30.858834Z",
     "iopub.status.busy": "2025-02-05T15:11:30.858487Z",
     "iopub.status.idle": "2025-02-05T15:11:31.152605Z",
     "shell.execute_reply": "2025-02-05T15:11:31.150997Z"
    },
    "papermill": {
     "duration": 0.303155,
     "end_time": "2025-02-05T15:11:31.154736",
     "exception": false,
     "start_time": "2025-02-05T15:11:30.851581",
     "status": "completed"
    },
    "tags": []
   },
   "outputs": [
    {
     "data": {
      "image/png": "[encoded data removed]",
      "text/plain": [
       "<Figure size 640x480 with 1 Axes>"
      ]
     },
     "metadata": {},
     "output_type": "display_data"
    }
   ],
   "source": [
    "import matplotlib.pyplot as plt\n",
    "\n",
    "plt.hist(merged_df[\"Anomaly_Score\"], bins=50, edgecolor='black')\n",
    "plt.xlabel(\"Anomaly Score\")\n",
    "plt.ylabel(\"Frequency\")\n",
    "plt.title(\"Distribution of Anomaly Scores\")\n",
    "plt.show()"
   ]
  },
  {
   "cell_type": "code",
   "execution_count": 17,
   "id": "323b00b7",
   "metadata": {
    "execution": {
     "iopub.execute_input": "2025-02-05T15:11:31.170047Z",
     "iopub.status.busy": "2025-02-05T15:11:31.169663Z",
     "iopub.status.idle": "2025-02-05T15:11:31.178247Z",
     "shell.execute_reply": "2025-02-05T15:11:31.176822Z"
    },
    "papermill": {
     "duration": 0.018681,
     "end_time": "2025-02-05T15:11:31.180219",
     "exception": false,
     "start_time": "2025-02-05T15:11:31.161538",
     "status": "completed"
    },
    "tags": []
   },
   "outputs": [
    {
     "name": "stdout",
     "output_type": "stream",
     "text": [
      "Anomaly\n",
      "Normal       90.416489\n",
      "Anomalous     9.583511\n",
      "Name: proportion, dtype: float64\n"
     ]
    }
   ],
   "source": [
    "print(merged_df[\"Anomaly\"].value_counts(normalize=True) * 100)"
   ]
  },
  {
   "cell_type": "code",
   "execution_count": 18,
   "id": "7961ad5e",
   "metadata": {
    "execution": {
     "iopub.execute_input": "2025-02-05T15:11:31.195706Z",
     "iopub.status.busy": "2025-02-05T15:11:31.195269Z",
     "iopub.status.idle": "2025-02-05T15:11:31.215842Z",
     "shell.execute_reply": "2025-02-05T15:11:31.214256Z"
    },
    "papermill": {
     "duration": 0.030655,
     "end_time": "2025-02-05T15:11:31.218273",
     "exception": false,
     "start_time": "2025-02-05T15:11:31.187618",
     "status": "completed"
    },
    "tags": []
   },
   "outputs": [
    {
     "name": "stdout",
     "output_type": "stream",
     "text": [
      "     cash_request_id  total_amount  repayment_delay Repayment_Status\n",
      "16           26565.0           5.0             -1.0        Defaulter\n",
      "29           22251.0           5.0              3.0       Late Payer\n",
      "44           12952.0           5.0             -1.0        Defaulter\n",
      "55           26575.0           5.0             36.0       Late Payer\n",
      "70           22977.0           5.0             15.0       Late Payer\n",
      "79           26494.0           5.0              4.0       Late Payer\n",
      "94           14814.0           5.0             28.0       Late Payer\n",
      "106          14924.0           5.0             31.0       Late Payer\n",
      "115          14093.0           5.0             -1.0        Defaulter\n",
      "126          18606.0           5.0              3.0       Late Payer\n",
      "140          22139.0           5.0             -1.0        Defaulter\n",
      "143           3229.0           5.0            157.0       Late Payer\n",
      "146          26119.0           5.0              6.0       Late Payer\n",
      "157          18606.0           5.0              3.0       Late Payer\n",
      "186          14588.0           5.0             22.0       Late Payer\n",
      "193          18606.0           5.0              3.0       Late Payer\n",
      "196          20882.0           5.0              3.0       Late Payer\n",
      "206          14754.0           5.0             31.0       Late Payer\n",
      "207          14588.0           5.0             22.0       Late Payer\n",
      "229          18874.0           5.0              2.0       Late Payer\n",
      "236          23494.0           5.0              6.0       Late Payer\n",
      "268          19074.0           5.0             36.0       Late Payer\n",
      "282          24335.0           5.0             -1.0        Defaulter\n",
      "306          22589.0           5.0              6.0       Late Payer\n",
      "311          21375.0           5.0              5.0       Late Payer\n",
      "338          21522.0           5.0             -1.0        Defaulter\n",
      "359          15633.0           5.0             31.0       Late Payer\n",
      "360          20778.0           5.0              5.0       Late Payer\n",
      "368          23789.0           5.0              6.0       Late Payer\n",
      "373          25388.0           5.0              3.0       Late Payer\n",
      "387          18803.0           5.0             37.0       Late Payer\n",
      "392          15730.0           5.0             28.0       Late Payer\n",
      "394          13797.0           5.0             28.0       Late Payer\n",
      "417          22676.0           5.0             32.0       Late Payer\n",
      "424          22714.0           5.0              6.0       Late Payer\n",
      "426          18803.0           5.0             37.0       Late Payer\n",
      "441          26874.0           5.0              7.0       Late Payer\n",
      "452          16676.0           5.0             -1.0        Defaulter\n",
      "468          16577.0           5.0             -1.0        Defaulter\n",
      "469          22715.0           5.0             -1.0        Defaulter\n",
      "472          15328.0           5.0              5.0       Late Payer\n",
      "480          25307.0           5.0             -1.0        Defaulter\n",
      "484          25146.0           5.0             -1.0        Defaulter\n",
      "485          14650.0           5.0             28.0       Late Payer\n",
      "487          14690.0           5.0              6.0       Late Payer\n",
      "490          22704.0           5.0              6.0       Late Payer\n",
      "548          20893.0           5.0              4.0       Late Payer\n",
      "550          15900.0           5.0             14.0       Late Payer\n",
      "574           9860.0           5.0             -1.0        Defaulter\n",
      "585          14555.0           5.0             18.0       Late Payer\n"
     ]
    }
   ],
   "source": [
    "anomalies = merged_df[merged_df[\"Anomaly\"] == \"Anomalous\"]\n",
    "print(anomalies[[\"cash_request_id\", \"total_amount\", \"repayment_delay\", \"Repayment_Status\"]].head(50))"
   ]
  },
  {
   "cell_type": "code",
   "execution_count": null,
   "id": "0aa38894",
   "metadata": {
    "papermill": {
     "duration": 0.006778,
     "end_time": "2025-02-05T15:11:31.232858",
     "exception": false,
     "start_time": "2025-02-05T15:11:31.226080",
     "status": "completed"
    },
    "tags": []
   },
   "outputs": [],
   "source": []
  }
 ],
 "metadata": {
  "kaggle": {
   "accelerator": "none",
   "dataSources": [
    {
     "datasetId": 6522717,
     "sourceId": 10541803,
     "sourceType": "datasetVersion"
    }
   ],
   "dockerImageVersionId": 30839,
   "isGpuEnabled": false,
   "isInternetEnabled": true,
   "language": "python",
   "sourceType": "notebook"
  },
  "kernelspec": {
   "display_name": "Python 3",
   "language": "python",
   "name": "python3"
  },
  "language_info": {
   "codemirror_mode": {
    "name": "ipython",
    "version": 3
   },
   "file_extension": ".py",
   "mimetype": "text/x-python",
   "name": "python",
   "nbconvert_exporter": "python",
   "pygments_lexer": "ipython3",
   "version": "3.10.12"
  },
  "papermill": {
   "default_parameters": {},
   "duration": 15.172703,
   "end_time": "2025-02-05T15:11:32.062905",
   "environment_variables": {},
   "exception": null,
   "input_path": "__notebook__.ipynb",
   "output_path": "__notebook__.ipynb",
   "parameters": {},
   "start_time": "2025-02-05T15:11:16.890202",
   "version": "2.6.0"
  }
 },
 "nbformat": 4,
 "nbformat_minor": 5
}
